{
  "nbformat": 4,
  "nbformat_minor": 0,
  "metadata": {
    "colab": {
      "provenance": [],
      "authorship_tag": "ABX9TyOGyTUoKClQQeF6dI13OLr/",
      "include_colab_link": true
    },
    "kernelspec": {
      "name": "python3",
      "display_name": "Python 3"
    },
    "language_info": {
      "name": "python"
    }
  },
  "cells": [
    {
      "cell_type": "markdown",
      "metadata": {
        "id": "view-in-github",
        "colab_type": "text"
      },
      "source": [
        "<a href=\"https://colab.research.google.com/github/niteshydv01/Chextray/blob/main/Chextray.ipynb\" target=\"_parent\"><img src=\"https://colab.research.google.com/assets/colab-badge.svg\" alt=\"Open In Colab\"/></a>"
      ]
    },
    {
      "cell_type": "code",
      "source": [
        "!pip install --upgrade kaggle\n"
      ],
      "metadata": {
        "colab": {
          "base_uri": "https://localhost:8080/"
        },
        "id": "eVfs5qMM3uej",
        "outputId": "73f5c00e-2636-401f-9592-4152d6eaef7c"
      },
      "execution_count": 1,
      "outputs": [
        {
          "output_type": "stream",
          "name": "stdout",
          "text": [
            "Requirement already satisfied: kaggle in /usr/local/lib/python3.10/dist-packages (1.5.16)\n",
            "Requirement already satisfied: six>=1.10 in /usr/local/lib/python3.10/dist-packages (from kaggle) (1.16.0)\n",
            "Requirement already satisfied: certifi in /usr/local/lib/python3.10/dist-packages (from kaggle) (2023.7.22)\n",
            "Requirement already satisfied: python-dateutil in /usr/local/lib/python3.10/dist-packages (from kaggle) (2.8.2)\n",
            "Requirement already satisfied: requests in /usr/local/lib/python3.10/dist-packages (from kaggle) (2.31.0)\n",
            "Requirement already satisfied: tqdm in /usr/local/lib/python3.10/dist-packages (from kaggle) (4.66.1)\n",
            "Requirement already satisfied: python-slugify in /usr/local/lib/python3.10/dist-packages (from kaggle) (8.0.1)\n",
            "Requirement already satisfied: urllib3 in /usr/local/lib/python3.10/dist-packages (from kaggle) (2.0.6)\n",
            "Requirement already satisfied: bleach in /usr/local/lib/python3.10/dist-packages (from kaggle) (6.0.0)\n",
            "Requirement already satisfied: webencodings in /usr/local/lib/python3.10/dist-packages (from bleach->kaggle) (0.5.1)\n",
            "Requirement already satisfied: text-unidecode>=1.3 in /usr/local/lib/python3.10/dist-packages (from python-slugify->kaggle) (1.3)\n",
            "Requirement already satisfied: charset-normalizer<4,>=2 in /usr/local/lib/python3.10/dist-packages (from requests->kaggle) (3.3.0)\n",
            "Requirement already satisfied: idna<4,>=2.5 in /usr/local/lib/python3.10/dist-packages (from requests->kaggle) (3.4)\n"
          ]
        }
      ]
    },
    {
      "cell_type": "code",
      "source": [
        "from google.colab import files"
      ],
      "metadata": {
        "id": "S5KZpADK3_fh"
      },
      "execution_count": 2,
      "outputs": []
    },
    {
      "cell_type": "code",
      "source": [
        "!mkdir -p ~/.kaggle\n",
        "!cp kaggle.json ~/.kaggle/\n",
        "!chmod 600 ~/.kaggle/kaggle.json\n"
      ],
      "metadata": {
        "id": "Rcp37q464XlJ"
      },
      "execution_count": 3,
      "outputs": []
    },
    {
      "cell_type": "code",
      "source": [
        "# Replace 'dataset-name' with the actual name of the Kaggle dataset\n",
        "!kaggle datasets download -d paultimothymooney/chest-xray-pneumonia\n",
        "##!kaggle datasets download -d andrewmvd/face-mask-detection"
      ],
      "metadata": {
        "colab": {
          "base_uri": "https://localhost:8080/"
        },
        "id": "bfDAMy3T4bxK",
        "outputId": "b65d4816-510c-4435-eb0d-b8f536013ac2"
      },
      "execution_count": 4,
      "outputs": [
        {
          "output_type": "stream",
          "name": "stdout",
          "text": [
            "Downloading chest-xray-pneumonia.zip to /content\n",
            " 99% 2.28G/2.29G [00:22<00:00, 185MB/s]\n",
            "100% 2.29G/2.29G [00:22<00:00, 110MB/s]\n"
          ]
        }
      ]
    },
    {
      "cell_type": "code",
      "source": [
        "!unzip -q /content/chest-xray-pneumonia.zip\n"
      ],
      "metadata": {
        "id": "mzAbkv86t0yl"
      },
      "execution_count": 5,
      "outputs": []
    },
    {
      "cell_type": "code",
      "source": [
        "import os\n",
        "import pandas as pd\n",
        "import matplotlib.pyplot as plt\n",
        "import seaborn as sns\n",
        "from PIL import Image\n"
      ],
      "metadata": {
        "id": "2Wl2C2yAu1-w"
      },
      "execution_count": 6,
      "outputs": []
    },
    {
      "cell_type": "code",
      "source": [
        "# Assuming the dataset is organized in folders 'train' and 'test' with subfolders 'NORMAL' and 'PNEUMONIA'\n",
        "train_path = '/content/chest_xray/train'\n",
        "test_path = '/content/chest_xray/test'\n",
        "\n",
        "# Create dataframes with image file paths and labels\n",
        "def load_data(folder_path):\n",
        "    data = []\n",
        "    for label in os.listdir(folder_path):\n",
        "        label_path = os.path.join(folder_path, label)\n",
        "        for file in os.listdir(label_path):\n",
        "            file_path = os.path.join(label_path, file)\n",
        "            data.append((file_path, label))\n",
        "    return pd.DataFrame(data, columns=['File', 'Label'])\n",
        "\n",
        "train_df = load_data(train_path)\n",
        "test_df = load_data(test_path)\n"
      ],
      "metadata": {
        "id": "Yjf8C7cWwMK_"
      },
      "execution_count": 7,
      "outputs": []
    },
    {
      "cell_type": "code",
      "source": [
        "# Display the first few rows of the dataframes\n",
        "print(\"Train Data:\")\n",
        "print(train_df.head())\n",
        "\n",
        "print(\"\\nTest Data:\")\n",
        "print(test_df.head())\n",
        "\n",
        "# Summary statistics\n",
        "print(\"\\nTrain Data Summary:\")\n",
        "print(train_df['Label'].value_counts())\n",
        "\n",
        "print(\"\\nTest Data Summary:\")\n",
        "print(test_df['Label'].value_counts())\n"
      ],
      "metadata": {
        "colab": {
          "base_uri": "https://localhost:8080/"
        },
        "id": "fkEH5uvXwpMG",
        "outputId": "38fc7e16-078a-4937-ac29-429dfe1da094"
      },
      "execution_count": 8,
      "outputs": [
        {
          "output_type": "stream",
          "name": "stdout",
          "text": [
            "Train Data:\n",
            "                                                File      Label\n",
            "0  /content/chest_xray/train/PNEUMONIA/person1188...  PNEUMONIA\n",
            "1  /content/chest_xray/train/PNEUMONIA/person745_...  PNEUMONIA\n",
            "2  /content/chest_xray/train/PNEUMONIA/person1308...  PNEUMONIA\n",
            "3  /content/chest_xray/train/PNEUMONIA/person1048...  PNEUMONIA\n",
            "4  /content/chest_xray/train/PNEUMONIA/person755_...  PNEUMONIA\n",
            "\n",
            "Test Data:\n",
            "                                                File      Label\n",
            "0  /content/chest_xray/test/PNEUMONIA/person56_vi...  PNEUMONIA\n",
            "1  /content/chest_xray/test/PNEUMONIA/person119_b...  PNEUMONIA\n",
            "2  /content/chest_xray/test/PNEUMONIA/person19_vi...  PNEUMONIA\n",
            "3  /content/chest_xray/test/PNEUMONIA/person61_vi...  PNEUMONIA\n",
            "4  /content/chest_xray/test/PNEUMONIA/person173_b...  PNEUMONIA\n",
            "\n",
            "Train Data Summary:\n",
            "PNEUMONIA    3875\n",
            "NORMAL       1341\n",
            "Name: Label, dtype: int64\n",
            "\n",
            "Test Data Summary:\n",
            "PNEUMONIA    390\n",
            "NORMAL       234\n",
            "Name: Label, dtype: int64\n"
          ]
        }
      ]
    },
    {
      "cell_type": "code",
      "source": [
        "import os\n",
        "import numpy as np\n",
        "import pandas as pd\n",
        "import matplotlib.pyplot as plt\n",
        "from tensorflow.keras.preprocessing.image import ImageDataGenerator\n",
        "from tensorflow.keras.models import Sequential\n",
        "from tensorflow.keras.layers import Conv2D, MaxPooling2D, Flatten, Dense\n",
        "from tensorflow.keras.callbacks import ModelCheckpoint\n"
      ],
      "metadata": {
        "id": "aiDU_tLdL5LO"
      },
      "execution_count": 9,
      "outputs": []
    },
    {
      "cell_type": "code",
      "source": [
        "# Set the paths to the train and test datasets\n",
        "train_path = '/content/chest_xray/train'\n",
        "test_path = '/content/chest_xray/test'\n",
        "\n",
        "# Data augmentation\n",
        "train_datagen = ImageDataGenerator(rescale=1./255, shear_range=0.2, zoom_range=0.2, horizontal_flip=True)\n",
        "test_datagen = ImageDataGenerator(rescale=1./255)\n",
        "\n",
        "# Load and augment the training data\n",
        "train_generator = train_datagen.flow_from_directory(\n",
        "    train_path,\n",
        "    target_size=(128, 128),\n",
        "    batch_size=32,\n",
        "    class_mode='binary'\n",
        ")\n",
        "\n",
        "# Load the test data without augmentation\n",
        "test_generator = test_datagen.flow_from_directory(\n",
        "    test_path,\n",
        "    target_size=(128, 128),\n",
        "    batch_size=32,\n",
        "    class_mode='binary'\n",
        ")\n"
      ],
      "metadata": {
        "colab": {
          "base_uri": "https://localhost:8080/"
        },
        "id": "3_t5QdmNMSjz",
        "outputId": "885a458c-6527-44ae-d202-626215aa5a4a"
      },
      "execution_count": 10,
      "outputs": [
        {
          "output_type": "stream",
          "name": "stdout",
          "text": [
            "Found 5216 images belonging to 2 classes.\n",
            "Found 624 images belonging to 2 classes.\n"
          ]
        }
      ]
    },
    {
      "cell_type": "code",
      "source": [
        "model = Sequential()\n",
        "\n",
        "model.add(Conv2D(32, (3, 3), input_shape=(128, 128, 3), activation='relu'))\n",
        "model.add(MaxPooling2D(pool_size=(2, 2)))\n",
        "\n",
        "model.add(Conv2D(64, (3, 3), activation='relu'))\n",
        "model.add(MaxPooling2D(pool_size=(2, 2)))\n",
        "\n",
        "model.add(Conv2D(128, (3, 3), activation='relu'))\n",
        "model.add(MaxPooling2D(pool_size=(2, 2)))\n",
        "\n",
        "model.add(Flatten())\n",
        "model.add(Dense(units=128, activation='relu'))\n",
        "model.add(Dense(units=1, activation='sigmoid'))\n",
        "\n",
        "model.compile(optimizer='adam', loss='binary_crossentropy', metrics=['accuracy'])\n",
        "\n",
        "model.summary()\n"
      ],
      "metadata": {
        "colab": {
          "base_uri": "https://localhost:8080/"
        },
        "id": "BX7ugF8SMoSl",
        "outputId": "16752e08-351f-4951-d326-8addec560aac"
      },
      "execution_count": 11,
      "outputs": [
        {
          "output_type": "stream",
          "name": "stdout",
          "text": [
            "Model: \"sequential\"\n",
            "_________________________________________________________________\n",
            " Layer (type)                Output Shape              Param #   \n",
            "=================================================================\n",
            " conv2d (Conv2D)             (None, 126, 126, 32)      896       \n",
            "                                                                 \n",
            " max_pooling2d (MaxPooling2  (None, 63, 63, 32)        0         \n",
            " D)                                                              \n",
            "                                                                 \n",
            " conv2d_1 (Conv2D)           (None, 61, 61, 64)        18496     \n",
            "                                                                 \n",
            " max_pooling2d_1 (MaxPoolin  (None, 30, 30, 64)        0         \n",
            " g2D)                                                            \n",
            "                                                                 \n",
            " conv2d_2 (Conv2D)           (None, 28, 28, 128)       73856     \n",
            "                                                                 \n",
            " max_pooling2d_2 (MaxPoolin  (None, 14, 14, 128)       0         \n",
            " g2D)                                                            \n",
            "                                                                 \n",
            " flatten (Flatten)           (None, 25088)             0         \n",
            "                                                                 \n",
            " dense (Dense)               (None, 128)               3211392   \n",
            "                                                                 \n",
            " dense_1 (Dense)             (None, 1)                 129       \n",
            "                                                                 \n",
            "=================================================================\n",
            "Total params: 3304769 (12.61 MB)\n",
            "Trainable params: 3304769 (12.61 MB)\n",
            "Non-trainable params: 0 (0.00 Byte)\n",
            "_________________________________________________________________\n"
          ]
        }
      ]
    },
    {
      "cell_type": "code",
      "source": [
        "# Define a checkpoint to save the best model\n",
        "checkpoint = ModelCheckpoint('best_model.h5', save_best_only=True, monitor='val_loss', mode='min', verbose=1)\n",
        "\n",
        "# Train the model\n",
        "history = model.fit(\n",
        "    train_generator,\n",
        "    steps_per_epoch=train_generator.samples // train_generator.batch_size,\n",
        "    epochs=10,\n",
        "    validation_data=test_generator,\n",
        "    validation_steps=test_generator.samples // test_generator.batch_size,\n",
        "    callbacks=[checkpoint]\n",
        ")\n"
      ],
      "metadata": {
        "colab": {
          "base_uri": "https://localhost:8080/"
        },
        "id": "mDaaR05KNKq4",
        "outputId": "b6f8dac7-27f8-432d-ec1f-6ad387883848"
      },
      "execution_count": 12,
      "outputs": [
        {
          "output_type": "stream",
          "name": "stdout",
          "text": [
            "Epoch 1/10\n",
            "163/163 [==============================] - ETA: 0s - loss: 0.3417 - accuracy: 0.8474\n",
            "Epoch 1: val_loss improved from inf to 0.32080, saving model to best_model.h5\n",
            "163/163 [==============================] - 244s 1s/step - loss: 0.3417 - accuracy: 0.8474 - val_loss: 0.3208 - val_accuracy: 0.8701\n",
            "Epoch 2/10\n"
          ]
        },
        {
          "output_type": "stream",
          "name": "stderr",
          "text": [
            "/usr/local/lib/python3.10/dist-packages/keras/src/engine/training.py:3000: UserWarning: You are saving your model as an HDF5 file via `model.save()`. This file format is considered legacy. We recommend using instead the native Keras format, e.g. `model.save('my_model.keras')`.\n",
            "  saving_api.save_model(\n"
          ]
        },
        {
          "output_type": "stream",
          "name": "stdout",
          "text": [
            "163/163 [==============================] - ETA: 0s - loss: 0.2186 - accuracy: 0.9084\n",
            "Epoch 2: val_loss did not improve from 0.32080\n",
            "163/163 [==============================] - 240s 1s/step - loss: 0.2186 - accuracy: 0.9084 - val_loss: 0.5069 - val_accuracy: 0.8224\n",
            "Epoch 3/10\n",
            "163/163 [==============================] - ETA: 0s - loss: 0.1939 - accuracy: 0.9216\n",
            "Epoch 3: val_loss did not improve from 0.32080\n",
            "163/163 [==============================] - 241s 1s/step - loss: 0.1939 - accuracy: 0.9216 - val_loss: 0.4884 - val_accuracy: 0.8487\n",
            "Epoch 4/10\n",
            "163/163 [==============================] - ETA: 0s - loss: 0.1711 - accuracy: 0.9289\n",
            "Epoch 4: val_loss did not improve from 0.32080\n",
            "163/163 [==============================] - 238s 1s/step - loss: 0.1711 - accuracy: 0.9289 - val_loss: 0.6230 - val_accuracy: 0.8240\n",
            "Epoch 5/10\n",
            "163/163 [==============================] - ETA: 0s - loss: 0.1653 - accuracy: 0.9375\n",
            "Epoch 5: val_loss did not improve from 0.32080\n",
            "163/163 [==============================] - 242s 1s/step - loss: 0.1653 - accuracy: 0.9375 - val_loss: 0.4635 - val_accuracy: 0.8816\n",
            "Epoch 6/10\n",
            "163/163 [==============================] - ETA: 0s - loss: 0.1534 - accuracy: 0.9415\n",
            "Epoch 6: val_loss did not improve from 0.32080\n",
            "163/163 [==============================] - 238s 1s/step - loss: 0.1534 - accuracy: 0.9415 - val_loss: 0.3694 - val_accuracy: 0.8964\n",
            "Epoch 7/10\n",
            "163/163 [==============================] - ETA: 0s - loss: 0.1334 - accuracy: 0.9477\n",
            "Epoch 7: val_loss did not improve from 0.32080\n",
            "163/163 [==============================] - 238s 1s/step - loss: 0.1334 - accuracy: 0.9477 - val_loss: 0.5234 - val_accuracy: 0.8553\n",
            "Epoch 8/10\n",
            "163/163 [==============================] - ETA: 0s - loss: 0.1331 - accuracy: 0.9479\n",
            "Epoch 8: val_loss did not improve from 0.32080\n",
            "163/163 [==============================] - 244s 1s/step - loss: 0.1331 - accuracy: 0.9479 - val_loss: 0.5067 - val_accuracy: 0.8503\n",
            "Epoch 9/10\n",
            "163/163 [==============================] - ETA: 0s - loss: 0.1235 - accuracy: 0.9515\n",
            "Epoch 9: val_loss did not improve from 0.32080\n",
            "163/163 [==============================] - 233s 1s/step - loss: 0.1235 - accuracy: 0.9515 - val_loss: 0.4871 - val_accuracy: 0.8635\n",
            "Epoch 10/10\n",
            "163/163 [==============================] - ETA: 0s - loss: 0.1249 - accuracy: 0.9528\n",
            "Epoch 10: val_loss did not improve from 0.32080\n",
            "163/163 [==============================] - 244s 1s/step - loss: 0.1249 - accuracy: 0.9528 - val_loss: 0.4696 - val_accuracy: 0.8914\n"
          ]
        }
      ]
    },
    {
      "cell_type": "code",
      "source": [
        "# Plot training history\n",
        "plt.plot(history.history['accuracy'], label='Training Accuracy')\n",
        "plt.plot(history.history['val_accuracy'], label='Validation Accuracy')\n",
        "plt.xlabel('Epochs')\n",
        "plt.ylabel('Accuracy')\n",
        "plt.legend()\n",
        "plt.show()\n",
        "\n",
        "# Evaluate the model on the test set\n",
        "eval_result = model.evaluate(test_generator)\n",
        "print(f'Test Accuracy: {eval_result[1]*100:.2f}%')\n"
      ],
      "metadata": {
        "colab": {
          "base_uri": "https://localhost:8080/",
          "height": 485
        },
        "id": "BJYwO9qiW7tp",
        "outputId": "9e9a33fe-b00c-4173-80b2-97891abeac63"
      },
      "execution_count": 13,
      "outputs": [
        {
          "output_type": "display_data",
          "data": {
            "text/plain": [
              "<Figure size 640x480 with 1 Axes>"
            ],
            "image/png": "[encoded data removed]"
          },
          "metadata": {}
        },
        {
          "output_type": "stream",
          "name": "stdout",
          "text": [
            "20/20 [==============================] - 19s 888ms/step - loss: 0.4754 - accuracy: 0.8926\n",
            "Test Accuracy: 89.26%\n"
          ]
        }
      ]
    }
  ]
}